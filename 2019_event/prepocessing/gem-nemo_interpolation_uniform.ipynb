{
 "cells": [
  {
   "cell_type": "code",
   "execution_count": 1,
   "metadata": {},
   "outputs": [],
   "source": [
    "import xarray as xr\n",
    "import numpy as np\n",
    "import pandas as pd\n",
    "from scipy.interpolate import griddata"
   ]
  },
  {
   "cell_type": "code",
   "execution_count": 12,
   "metadata": {},
   "outputs": [],
   "source": [
    "# the expected uniform mesh (out)\n",
    "lon_uni = np.arange(-117.0,-108.8,0.1)\n",
    "lat_uni = np.arange(60.7,62.9,0.1)\n",
    "lons,lats = np.meshgrid(lon_uni, lat_uni)\n",
    "grid_out = np.concatenate([lons.reshape(-1,1), lats.reshape(-1,1)], axis=1)"
   ]
  },
  {
   "cell_type": "code",
   "execution_count": 13,
   "metadata": {},
   "outputs": [
    {
     "data": {
      "text/plain": [
       "(1826, 2)"
      ]
     },
     "execution_count": 13,
     "metadata": {},
     "output_type": "execute_result"
    }
   ],
   "source": [
    "np.shape(grid_out)"
   ]
  },
  {
   "cell_type": "code",
   "execution_count": 14,
   "metadata": {},
   "outputs": [],
   "source": [
    "# ds = xr.open_dataset(r'./out.nc')\n",
    "era5_uu = xr.open_dataset(r'./U_2000-9-29_10-3.nc')\n",
    "era5_vv = xr.open_dataset(r'./V_2000-9-29_10-3.nc')\n",
    "era5_p = xr.open_dataset(r'./p_2000-9-29_10-3.nc')\n",
    "\n",
    "lon = era5_p.lon.values\n",
    "lat = era5_p.lat.values\n",
    "# lons,lats = np.meshgrid(lon, lat)\n",
    "# grid_in = np.concatenate([lons.reshape(-1,1), lats.reshape(-1,1)], axis=1)\n",
    "grid_in = np.concatenate([lon.reshape(-1,1), lat.reshape(-1,1)], axis=1)"
   ]
  },
  {
   "cell_type": "code",
   "execution_count": 17,
   "metadata": {},
   "outputs": [
    {
     "name": "stderr",
     "output_type": "stream",
     "text": [
      "rm: cannot remove './atmos_2000-9-29_10-03.nc': No such file or directory\n"
     ]
    },
    {
     "name": "stdout",
     "output_type": "stream",
     "text": [
      "0: 2000-09-29 00:00:00\n",
      "1: 2000-09-29 01:00:00\n",
      "2: 2000-09-29 02:00:00\n",
      "3: 2000-09-29 03:00:00\n",
      "4: 2000-09-29 04:00:00\n",
      "5: 2000-09-29 05:00:00\n",
      "6: 2000-09-29 06:00:00\n",
      "7: 2000-09-29 07:00:00\n",
      "8: 2000-09-29 08:00:00\n",
      "9: 2000-09-29 09:00:00\n",
      "10: 2000-09-29 10:00:00\n",
      "11: 2000-09-29 11:00:00\n",
      "12: 2000-09-29 12:00:00\n",
      "13: 2000-09-29 13:00:00\n",
      "14: 2000-09-29 14:00:00\n",
      "15: 2000-09-29 15:00:00\n",
      "16: 2000-09-29 16:00:00\n",
      "17: 2000-09-29 17:00:00\n",
      "18: 2000-09-29 18:00:00\n",
      "19: 2000-09-29 19:00:00\n",
      "20: 2000-09-29 20:00:00\n",
      "21: 2000-09-29 21:00:00\n",
      "22: 2000-09-29 22:00:00\n",
      "23: 2000-09-29 23:00:00\n",
      "24: 2000-09-30 00:00:00\n",
      "25: 2000-09-30 01:00:00\n",
      "26: 2000-09-30 02:00:00\n",
      "27: 2000-09-30 03:00:00\n",
      "28: 2000-09-30 04:00:00\n",
      "29: 2000-09-30 05:00:00\n",
      "30: 2000-09-30 06:00:00\n",
      "31: 2000-09-30 07:00:00\n",
      "32: 2000-09-30 08:00:00\n",
      "33: 2000-09-30 09:00:00\n",
      "34: 2000-09-30 10:00:00\n",
      "35: 2000-09-30 11:00:00\n",
      "36: 2000-09-30 12:00:00\n",
      "37: 2000-09-30 13:00:00\n",
      "38: 2000-09-30 14:00:00\n",
      "39: 2000-09-30 15:00:00\n",
      "40: 2000-09-30 16:00:00\n",
      "41: 2000-09-30 17:00:00\n",
      "42: 2000-09-30 18:00:00\n",
      "43: 2000-09-30 19:00:00\n",
      "44: 2000-09-30 20:00:00\n",
      "45: 2000-09-30 21:00:00\n",
      "46: 2000-09-30 22:00:00\n",
      "47: 2000-09-30 23:00:00\n",
      "48: 2000-10-01 00:00:00\n",
      "49: 2000-10-01 01:00:00\n",
      "50: 2000-10-01 02:00:00\n",
      "51: 2000-10-01 03:00:00\n",
      "52: 2000-10-01 04:00:00\n",
      "53: 2000-10-01 05:00:00\n",
      "54: 2000-10-01 06:00:00\n",
      "55: 2000-10-01 07:00:00\n",
      "56: 2000-10-01 08:00:00\n",
      "57: 2000-10-01 09:00:00\n",
      "58: 2000-10-01 10:00:00\n",
      "59: 2000-10-01 11:00:00\n",
      "60: 2000-10-01 12:00:00\n",
      "61: 2000-10-01 13:00:00\n",
      "62: 2000-10-01 14:00:00\n",
      "63: 2000-10-01 15:00:00\n",
      "64: 2000-10-01 16:00:00\n",
      "65: 2000-10-01 17:00:00\n",
      "66: 2000-10-01 18:00:00\n",
      "67: 2000-10-01 19:00:00\n",
      "68: 2000-10-01 20:00:00\n",
      "69: 2000-10-01 21:00:00\n",
      "70: 2000-10-01 22:00:00\n",
      "71: 2000-10-01 23:00:00\n",
      "72: 2000-10-02 00:00:00\n",
      "73: 2000-10-02 01:00:00\n",
      "74: 2000-10-02 02:00:00\n",
      "75: 2000-10-02 03:00:00\n",
      "76: 2000-10-02 04:00:00\n",
      "77: 2000-10-02 05:00:00\n",
      "78: 2000-10-02 06:00:00\n",
      "79: 2000-10-02 07:00:00\n",
      "80: 2000-10-02 08:00:00\n",
      "81: 2000-10-02 09:00:00\n",
      "82: 2000-10-02 10:00:00\n",
      "83: 2000-10-02 11:00:00\n",
      "84: 2000-10-02 12:00:00\n",
      "85: 2000-10-02 13:00:00\n",
      "86: 2000-10-02 14:00:00\n",
      "87: 2000-10-02 15:00:00\n",
      "88: 2000-10-02 16:00:00\n",
      "89: 2000-10-02 17:00:00\n",
      "90: 2000-10-02 18:00:00\n",
      "91: 2000-10-02 19:00:00\n",
      "92: 2000-10-02 20:00:00\n",
      "93: 2000-10-02 21:00:00\n",
      "94: 2000-10-02 22:00:00\n",
      "95: 2000-10-02 23:00:00\n",
      "96: 2000-10-03 00:00:00\n"
     ]
    }
   ],
   "source": [
    "import os\n",
    "filename = 'atmos_2000-9-29_10-03.nc'\n",
    "os.system(\"rm ./\"+filename)\n",
    "save_file = r'./'+filename\n",
    "\n",
    "date_ran = pd.date_range(\"2000-09-29 00\", \"2000-10-03 00\", freq=\"1h\")\n",
    "time_count = len(date_ran)\n",
    "\n",
    "# grid_out = np.vstack((points['lon'], points['lat'])).T\n",
    "\n",
    "u10_out = np.empty((time_count,len(lat_uni), len(lon_uni)))\n",
    "v10_out = np.empty((time_count,len(lat_uni), len(lon_uni)))\n",
    "sp_out = np.empty((time_count,len(lat_uni), len(lon_uni)))\n",
    "\n",
    "# interpolation\n",
    "# outputs =  np.empty((0,3))\n",
    "for itime in range(time_count):\n",
    "    u10_in = era5_uu.UU.sel(time=date_ran[itime], method='nearest')\n",
    "    v10_in = era5_vv.VV.sel(time=date_ran[itime], method='nearest')\n",
    "    sp_in = era5_p.slp.sel(time=date_ran[itime], method='nearest')\n",
    "    u10_out_interp = griddata(grid_in, np.array(u10_in).flatten(), grid_out, method='linear')\n",
    "    v10_out_interp = griddata(grid_in, np.array(v10_in).flatten(), grid_out, method='linear')\n",
    "    sp_out_interp = griddata(grid_in, np.array(sp_in).flatten(), grid_out, method='linear')\n",
    "\n",
    "    # print(str(np.size(u10_out_interp)))\n",
    "\n",
    "    u10_out[itime] = u10_out_interp.reshape(len(lat_uni), len(lon_uni))\n",
    "    v10_out[itime] = v10_out_interp.reshape(len(lat_uni), len(lon_uni))\n",
    "    sp_out[itime] = sp_out_interp.reshape(len(lat_uni), len(lon_uni))\n",
    "#     output = np.vstack((points['id'],u10_out,v10_out,sp_out)).T\n",
    "#     outputs = np.concatenate([outputs, output])\n",
    "    print(str(itime)+': '+str(date_ran[itime]))"
   ]
  },
  {
   "cell_type": "code",
   "execution_count": 18,
   "metadata": {},
   "outputs": [
    {
     "name": "stdout",
     "output_type": "stream",
     "text": [
      "(97, 22, 83)\n",
      "(1826, 2)\n"
     ]
    }
   ],
   "source": [
    "print(u10_out.shape)\n",
    "print(grid_out.shape)"
   ]
  },
  {
   "cell_type": "code",
   "execution_count": 23,
   "metadata": {},
   "outputs": [],
   "source": [
    "# create NetCDF file\n",
    "ds1 = xr.Dataset(\n",
    "    data_vars={\n",
    "        \"u10\": ((\"time\", \"lat\", \"lon\"), np.float32(u10_out)),\n",
    "        \"v10\": ((\"time\", \"lat\", \"lon\"), np.float32(v10_out)),\n",
    "        \"sp\": ((\"time\", \"lat\", \"lon\"), np.float32(sp_out)),\n",
    "    },\n",
    "    coords={\n",
    "        # \"node\": np.arange(1, npoint+1),\n",
    "        \"time\": np.arange(1, time_count+1),\n",
    "        \"lat\": np.arange(1, len(lat_uni)+1),\n",
    "        \"lon\": np.arange(1, len(lon_uni)+1),\n",
    "    },\n",
    ")"
   ]
  },
  {
   "cell_type": "code",
   "execution_count": 24,
   "metadata": {},
   "outputs": [
    {
     "name": "stdout",
     "output_type": "stream",
     "text": [
      "saving to  ./atmos_2000-9-29_10-03.nc\n"
     ]
    }
   ],
   "source": [
    "print ('saving to ', save_file)\n",
    "ds1.to_netcdf(path=save_file)"
   ]
  },
  {
   "cell_type": "code",
   "execution_count": null,
   "metadata": {},
   "outputs": [],
   "source": []
  }
 ],
 "metadata": {
  "kernelspec": {
   "display_name": "base",
   "language": "python",
   "name": "python3"
  },
  "language_info": {
   "codemirror_mode": {
    "name": "ipython",
    "version": 3
   },
   "file_extension": ".py",
   "mimetype": "text/x-python",
   "name": "python",
   "nbconvert_exporter": "python",
   "pygments_lexer": "ipython3",
   "version": "3.12.7"
  }
 },
 "nbformat": 4,
 "nbformat_minor": 2
}
